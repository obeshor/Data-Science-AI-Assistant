{
  "metadata": {
    "kernelspec": {
      "language": "python",
      "display_name": "Python 3",
      "name": "python3"
    },
    "language_info": {
      "name": "python",
      "version": "3.10.13",
      "mimetype": "text/x-python",
      "codemirror_mode": {
        "name": "ipython",
        "version": 3
      },
      "pygments_lexer": "ipython3",
      "nbconvert_exporter": "python",
      "file_extension": ".py"
    },
    "kaggle": {
      "accelerator": "none",
      "dataSources": [
        {
          "sourceId": 10417,
          "sourceType": "modelInstanceVersion",
          "modelInstanceId": 8385
        }
      ],
      "dockerImageVersionId": 30664,
      "isInternetEnabled": true,
      "language": "python",
      "sourceType": "notebook",
      "isGpuEnabled": false
    },
    "colab": {
      "name": "Gemma cpp",
      "provenance": [],
      "include_colab_link": true
    }
  },
  "nbformat_minor": 0,
  "nbformat": 4,
  "cells": [
    {
      "cell_type": "markdown",
      "metadata": {
        "id": "view-in-github",
        "colab_type": "text"
      },
      "source": [
        "<a href=\"https://colab.research.google.com/github/obeshor/Data-Science-AI-Assistant/blob/main/Gemma_cpp.ipynb\" target=\"_parent\"><img src=\"https://colab.research.google.com/assets/colab-badge.svg\" alt=\"Open In Colab\"/></a>"
      ]
    },
    {
      "source": [
        "\n",
        "# IMPORTANT: RUN THIS CELL IN ORDER TO IMPORT YOUR KAGGLE DATA SOURCES\n",
        "# TO THE CORRECT LOCATION (/kaggle/input) IN YOUR NOTEBOOK,\n",
        "# THEN FEEL FREE TO DELETE THIS CELL.\n",
        "# NOTE: THIS NOTEBOOK ENVIRONMENT DIFFERS FROM KAGGLE'S PYTHON\n",
        "# ENVIRONMENT SO THERE MAY BE MISSING LIBRARIES USED BY YOUR\n",
        "# NOTEBOOK.\n",
        "\n",
        "import os\n",
        "import sys\n",
        "from tempfile import NamedTemporaryFile\n",
        "from urllib.request import urlopen\n",
        "from urllib.parse import unquote, urlparse\n",
        "from urllib.error import HTTPError\n",
        "from zipfile import ZipFile\n",
        "import tarfile\n",
        "import shutil\n",
        "\n",
        "CHUNK_SIZE = 40960\n",
        "DATA_SOURCE_MAPPING = 'gemma/gemmacpp/2b-it-sfp/1:https%3A%2F%2Fstorage.googleapis.com%2Fkaggle-models-data%2F8385%2F10417%2Fbundle%2Farchive.tar.gz%3FX-Goog-Algorithm%3DGOOG4-RSA-SHA256%26X-Goog-Credential%3Dgcp-kaggle-com%2540kaggle-161607.iam.gserviceaccount.com%252F20240325%252Fauto%252Fstorage%252Fgoog4_request%26X-Goog-Date%3D20240325T182437Z%26X-Goog-Expires%3D259200%26X-Goog-SignedHeaders%3Dhost%26X-Goog-Signature%3D1a57440d482394a52d58b29ecdadc2d829fa22334361c699295f3f40995e2cb7d4221d6b0fae8784f9481c765ff8ef2a60d9ec63dfc1670c9fcc81b31f175bccde147f663be197200d285c8877d23af50558d17f812dd88f9923628f5efa2b2edb7ce6f6697128c096ca68566493b2fda9ce3866aa9c9695a0bf587884aa83c881b58f56f39535fa859b83e5bdc336112959ae1c45f08832b2a2acc0d71d70f889723e09ed4aeccb13ec0a5ee9bbea564d3a84c6901acf9c575b804be7e115ae69f44c7da9bf42f2deedec618a2956f57be4f8d2622b42221546c58e7ab01aa54123bc3b1b528bfbbb90bb97fa58b83499b0ba0def05f84caea5dc0aa2062754'\n",
        "\n",
        "KAGGLE_INPUT_PATH='/kaggle/input'\n",
        "KAGGLE_WORKING_PATH='/kaggle/working'\n",
        "KAGGLE_SYMLINK='kaggle'\n",
        "\n",
        "!umount /kaggle/input/ 2> /dev/null\n",
        "shutil.rmtree('/kaggle/input', ignore_errors=True)\n",
        "os.makedirs(KAGGLE_INPUT_PATH, 0o777, exist_ok=True)\n",
        "os.makedirs(KAGGLE_WORKING_PATH, 0o777, exist_ok=True)\n",
        "\n",
        "try:\n",
        "  os.symlink(KAGGLE_INPUT_PATH, os.path.join(\"..\", 'input'), target_is_directory=True)\n",
        "except FileExistsError:\n",
        "  pass\n",
        "try:\n",
        "  os.symlink(KAGGLE_WORKING_PATH, os.path.join(\"..\", 'working'), target_is_directory=True)\n",
        "except FileExistsError:\n",
        "  pass\n",
        "\n",
        "for data_source_mapping in DATA_SOURCE_MAPPING.split(','):\n",
        "    directory, download_url_encoded = data_source_mapping.split(':')\n",
        "    download_url = unquote(download_url_encoded)\n",
        "    filename = urlparse(download_url).path\n",
        "    destination_path = os.path.join(KAGGLE_INPUT_PATH, directory)\n",
        "    try:\n",
        "        with urlopen(download_url) as fileres, NamedTemporaryFile() as tfile:\n",
        "            total_length = fileres.headers['content-length']\n",
        "            print(f'Downloading {directory}, {total_length} bytes compressed')\n",
        "            dl = 0\n",
        "            data = fileres.read(CHUNK_SIZE)\n",
        "            while len(data) > 0:\n",
        "                dl += len(data)\n",
        "                tfile.write(data)\n",
        "                done = int(50 * dl / int(total_length))\n",
        "                sys.stdout.write(f\"\\r[{'=' * done}{' ' * (50-done)}] {dl} bytes downloaded\")\n",
        "                sys.stdout.flush()\n",
        "                data = fileres.read(CHUNK_SIZE)\n",
        "            if filename.endswith('.zip'):\n",
        "              with ZipFile(tfile) as zfile:\n",
        "                zfile.extractall(destination_path)\n",
        "            else:\n",
        "              with tarfile.open(tfile.name) as tarfile:\n",
        "                tarfile.extractall(destination_path)\n",
        "            print(f'\\nDownloaded and uncompressed: {directory}')\n",
        "    except HTTPError as e:\n",
        "        print(f'Failed to load (likely expired) {download_url} to path {destination_path}')\n",
        "        continue\n",
        "    except OSError as e:\n",
        "        print(f'Failed to load {download_url} to path {destination_path}')\n",
        "        continue\n",
        "\n",
        "print('Data source import complete.')\n"
      ],
      "metadata": {
        "id": "CzTWU5Lq3zJ-"
      },
      "cell_type": "code",
      "outputs": [],
      "execution_count": null
    },
    {
      "cell_type": "markdown",
      "source": [
        "The following bash script (written to disk thanks to the writefile magic) automates the installation and setup process for Gemma C++ executables. Here's a breakdown of each command with the explanation of what it does:\n",
        "\n",
        "1. `echo \"/usr/local/lib\" | tee -a /etc/ld.so.conf`: This command appends the directory `/usr/local/lib` to the file `/etc/ld.so.conf`, configuring the dynamic linker run-time bindings.\n",
        "\n",
        "2. `ldconfig -v`: This command updates the linker cache, allowing it to recognize the new library configurations. The `-v` flag provides verbose output.\n",
        "\n",
        "3. `conda install cmake -y`: Installs the `cmake` package using the `conda` package manager, with the `-y` flag for automatic confirmation.\n",
        "\n",
        "4. `conda install -c conda-forge sentencepiece -y`: Installs the `sentencepiece` package from the `conda-forge` channel using `conda`, again with the `-y` flag for automatic confirmation.\n",
        "\n",
        "5. `git clone https://github.com/google/gemma.cpp`: Clones the repository for the `gemma.cpp` project from GitHub.\n",
        "\n",
        "6. `cd \"gemma.cpp/build\"`: Changes the current directory to `gemma.cpp/build`.\n",
        "\n",
        "7. `cmake ..`: Runs CMake to configure the build system using the `CMakeLists.txt` file in the parent directory (`..`).\n",
        "\n",
        "8. `make -j 4 gemma`: Initiates the build process using `make`, with the `-j 4` flag indicating to use four parallel jobs for compiling (corresponding to the four cores of a Kaggle Notebook). The `gemma` argument specifies that only the `gemma` target should be built.\n",
        "\n",
        "9. `cd ../..`: Moves two directories up from the current location.\n",
        "\n",
        "10. `cp -r gemma.cpp/build ./gemma_cpp`: Copies the `build` directory (containing the compiled `gemma` binary) to a directory named `gemma_cpp` in the current working directory.\n"
      ],
      "metadata": {
        "id": "JTBnpYQS3zKC"
      }
    },
    {
      "cell_type": "code",
      "source": [
        "%%writefile gemma_cpp.sh\n",
        "\n",
        "echo \"/usr/local/lib\" | tee -a /etc/ld.so.conf\n",
        "ldconfig -v\n",
        "\n",
        "conda install cmake -y\n",
        "conda install -c conda-forge sentencepiece -y\n",
        "\n",
        "git clone https://github.com/google/gemma.cpp\n",
        "cd \"gemma.cpp/build\"\n",
        "cmake ..\n",
        "make -j 4 gemma\n",
        "cd ../..\n",
        "cp -r gemma.cpp/build ./gemma_cpp"
      ],
      "metadata": {
        "execution": {
          "iopub.status.busy": "2024-03-25T17:47:46.941059Z",
          "iopub.execute_input": "2024-03-25T17:47:46.941845Z",
          "iopub.status.idle": "2024-03-25T17:47:46.953373Z",
          "shell.execute_reply.started": "2024-03-25T17:47:46.941797Z",
          "shell.execute_reply": "2024-03-25T17:47:46.952263Z"
        },
        "trusted": true,
        "id": "h-Uc4zo83zKD",
        "outputId": "43d74b73-592a-4f10-e513-98012a25938f"
      },
      "execution_count": null,
      "outputs": [
        {
          "name": "stdout",
          "text": "Overwriting gemma_cpp.sh\n",
          "output_type": "stream"
        }
      ]
    },
    {
      "cell_type": "code",
      "source": [
        "!bash ./gemma_cpp.sh"
      ],
      "metadata": {
        "execution": {
          "iopub.status.busy": "2024-03-25T17:47:46.959542Z",
          "iopub.execute_input": "2024-03-25T17:47:46.9599Z",
          "iopub.status.idle": "2024-03-25T17:49:44.981018Z",
          "shell.execute_reply.started": "2024-03-25T17:47:46.95987Z",
          "shell.execute_reply": "2024-03-25T17:49:44.979605Z"
        },
        "trusted": true,
        "id": "oBmhw6WM3zKE",
        "outputId": "9809ccf0-ffcf-4f0d-a070-736518f834bb"
      },
      "execution_count": null,
      "outputs": [
        {
          "name": "stdout",
          "text": "/usr/local/lib\n/sbin/ldconfig.real: Can't stat /usr/local/lib/x86_64-linux-gnu: No such file or directory\n/sbin/ldconfig.real: Path `/usr/lib/x86_64-linux-gnu' given more than once\n/sbin/ldconfig.real: Path `/usr/local/lib' given more than once\n/sbin/ldconfig.real: Path `/usr/local/lib' given more than once\n/sbin/ldconfig.real: Path `/lib/x86_64-linux-gnu' given more than once\n/sbin/ldconfig.real: Path `/usr/lib/x86_64-linux-gnu' given more than once\n/sbin/ldconfig.real: Path `/usr/lib' given more than once\n/usr/local/lib:\n/lib/x86_64-linux-gnu:\n\tlibpipeline.so.1 -> libpipeline.so.1.5.2\n\tlibjbig.so.0 -> libjbig.so.0\n\tlibwebp.so.6 -> libwebp.so.6.0.2\n\tlibhdf5_serial.so.103 -> libhdf5_serial.so.103.0.0\n\tlibxcb.so.1 -> libxcb.so.1.1.0\n\tlibnpth.so.0 -> libnpth.so.0.1.2\n\tlibhdf5_hl_cpp.so.100 -> libhdf5_hl_cpp.so.100.1.2\n\tlibbfd-2.34-system.so -> libbfd-2.34-system.so\n\tlibelf.so.1 -> libelf-0.176.so\n\tlibasound.so.2 -> libasound.so.2.0.0\n\tlibrest-0.7.so.0 -> librest-0.7.so.0.0.0\n\tliblqr-1.so.0 -> liblqr-1.so.0.3.2\n\tlibheimbase.so.1 -> libheimbase.so.1.0.0\n\tlibicui18n.so.66 -> libicui18n.so.66.1\n\tlibaec.so.0 -> libaec.so.0.0.10\n\tlibXinerama.so.1 -> libXinerama.so.1.0.0\n\tlibcrypto.so.1.1 -> libcrypto.so.1.1\n\tlibibverbs.so.1 -> libibverbs.so.1.8.28.0\n\tlibgomp.so.1 -> libgomp.so.1.0.0\n\tlibcc1.so.0 -> libcc1.so.0.0.0\n\tlibfftw3_threads.so.3 -> libfftw3_threads.so.3.5.8\n\tlibargon2.so.1 -> libargon2.so.1\n\tlibbrotlidec.so.1 -> libbrotlidec.so.1.0.7\n\tlibjson-c.so.4 -> libjson-c.so.4.0.0\n\tlibasn1.so.8 -> libasn1.so.8.0.0\n\tlibcolord.so.2 -> libcolord.so.2.0.5\n\tlibmpfr.so.6 -> libmpfr.so.6.0.2\n\tlibpsl.so.5 -> libpsl.so.5.3.2\n\tlibutempter.so.0 -> libutempter.so.1.1.6\n\tlibfftw3.so.3 -> libfftw3.so.3.5.8\n\tlibmpdec.so.2 -> libmpdec.so.2.4.2\n\tlibfftw3_omp.so.3 -> libfftw3_omp.so.3.5.8\n\tlibrtmp.so.1 -> librtmp.so.1\n\tlibicutu.so.66 -> libicutu.so.66.1\n\tlibtk8.6.so -> libtk8.6.so.0\n\tlibicuio.so.66 -> libicuio.so.66.1\n\tlibbsd.so.0 -> libbsd.so.0.10.0\n\tlibgstbase-1.0.so.0 -> libgstbase-1.0.so.0.1603.0\n\tlibonig.so.5 -> libonig.so.5.0.0\n\tlibtiff.so.5 -> libtiff.so.5.5.0\n\tlibip4tc.so.2 -> libip4tc.so.2.0.0\n\tlibicutest.so.66 -> libicutest.so.66.1\n\tlibhdf5_cpp.so.103 -> libhdf5_cpp.so.103.0.0\n\tlibcanberra.so.0 -> libcanberra.so.0.2.5\n\tlibcairo.so.2 -> libcairo.so.2.11600.0\n\tlibwebpmux.so.3 -> libwebpmux.so.3.0.1\n\tlibMagickCore-6.Q16.so.6 -> libMagickCore-6.Q16.so.6.0.0\n\tlibtsan.so.0 -> libtsan.so.0.0.0\n\tlibm17n-core.so.0 -> libm17n-core.so.0.4.2\n\tlibwind.so.0 -> libwind.so.0.0.0\n\tlibavahi-client.so.3 -> libavahi-client.so.3.2.9\n\tlibSM.so.6 -> libSM.so.6.0.1\n\tlibxcb-render.so.0 -> libxcb-render.so.0.0.0\n\tlibXcomposite.so.1 -> libXcomposite.so.1.0.0\n\tlibltdl.so.7 -> libltdl.so.7.3.1\n\tlibpixman-1.so.0 -> libpixman-1.so.0.38.4\n\tlibopcodes-2.34-system.so -> libopcodes-2.34-system.so\n\tlibsoup-2.4.so.1 -> libsoup-2.4.so.1.9.0\n\tlibrsvg-2.so.2 -> librsvg-2.so.2.47.0\n\tlibpolkit-gobject-1.so.0 -> libpolkit-gobject-1.so.0.0.0\n\tlibgstcheck-1.0.so.0 -> libgstcheck-1.0.so.0.1603.0\n\tlibatk-bridge-2.0.so.0 -> libatk-bridge-2.0.so.0.0.0\n\tlibgio-2.0.so.0 -> libgio-2.0.so.0.6400.6\n\tlibgmodule-2.0.so.0 -> libgmodule-2.0.so.0.6400.6\n\tlibXext.so.6 -> libXext.so.6.4.0\n\tlibsoup-gnome-2.4.so.1 -> libsoup-gnome-2.4.so.1.9.0\n\tlibsnappy.so.1 -> libsnappy.so.1.1.8\n\tlibcolordprivate.so.2 -> libcolordprivate.so.2.0.5\n\tlibfribidi.so.0 -> libfribidi.so.0.4.0\n\tlibprotobuf.so.17 -> libprotobuf.so.17.0.0\n\tlibwayland-client.so.0 -> libwayland-client.so.0.3.0\n\tlibstemmer.so.0d -> libstemmer.so.0d.0.0\n\tlibxkbcommon.so.0 -> libxkbcommon.so.0.0.0\n\tlibwayland-cursor.so.0 -> libwayland-cursor.so.0.0.0\n\tlibheimntlm.so.0 -> libheimntlm.so.0.1.0\n\tlibdconf.so.1 -> libdconf.so.1.0.0\n\tlibbrotlicommon.so.1 -> libbrotlicommon.so.1.0.7\n\tlibapparmor.so.1 -> libapparmor.so.1.6.1\n\tlibgssapi.so.3 -> libgssapi.so.3.0.0\n\tlibXpm.so.4 -> libXpm.so.4.11.0\n\tlibgthread-2.0.so.0 -> libgthread-2.0.so.0.6400.6\n\tlibdbus-1.so.3 -> libdbus-1.so.3.19.11\n\tlibcups.so.2 -> libcups.so.2\n\tlibfreetype.so.6 -> libfreetype.so.6.17.1\n\tlibXt.so.6 -> libXt.so.6.0.0\n\tlibpci.so.3 -> libpci.so.3.6.4\n\tlibwayland-egl.so.1 -> libwayland-egl.so.1.0.0\n\tlibzzipwrap-0.so.13 -> libzzipwrap-0.so.13.0.62\n\tlibgdk_pixbuf-2.0.so.0 -> libgdk_pixbuf-2.0.so.0.4000.0\n\tlibXdmcp.so.6 -> libXdmcp.so.6.0.0\n\tlibfontconfig.so.1 -> libfontconfig.so.1.12.0\n\tlibpangocairo-1.0.so.0 -> libpangocairo-1.0.so.0.4400.7\n\tlibvorbis.so.0 -> libvorbis.so.0.4.8\n\tlibcairo-gobject.so.2 -> libcairo-gobject.so.2.11600.0\n\tlibassuan.so.0 -> libassuan.so.0.8.3\n\tlibm17n-gui.so.0 -> libm17n-gui.so.0.4.2\n\tlibICE.so.6 -> libICE.so.6.3.0\n\tlibjpeg.so.8 -> libjpeg.so.8.2.2\n\tlibcap.so.2 -> libcap.so.2.32\n\tlibnghttp2.so.14 -> libnghttp2.so.14.19.0\n\tlibgfortran.so.5 -> libgfortran.so.5.0.0\n\tlibgdk-3.so.0 -> libgdk-3.so.0.2404.16\n\tlibctf-nobfd.so.0 -> libctf-nobfd.so.0.0.0\n\tlibXau.so.6 -> libXau.so.6.0.0\n\tlibepoxy.so.0 -> libepoxy.so.0.0.0\n\tlibsynctex.so.2 -> libsynctex.so.2.0.0\n\tlibcryptsetup.so.12 -> libcryptsetup.so.12.5.0\n\tlibgirepository-1.0.so.1 -> libgirepository-1.0.so.1.0.0\n\tlibtexlua53.so.5 -> libtexlua53.so.5.3.4\n\tlibicuuc.so.66 -> libicuuc.so.66.1\n\tlibgd.so.3 -> libgd.so.3.0.5\n\tlibgstreamer-1.0.so.0 -> libgstreamer-1.0.so.0.1603.0\n\tlibdevmapper.so.1.02.1 -> libdevmapper.so.1.02.1\n\tlibtcl8.6.so -> libtcl8.6.so.0\n\tlibgif.so.7 -> libgif.so.7.1.0\n\tlibatspi.so.0 -> libatspi.so.0.0.1\n\tlibptexenc.so.1 -> libptexenc.so.1.3.7\n\tlibinotifytools.so.0 -> libinotifytools.so.0.4.1\n\tlibhdf5_serial_hl.so.100 -> libhdf5_serial_hl.so.100.1.1\n\tlibpango-1.0.so.0 -> libpango-1.0.so.0.4400.7\n\tlibroken.so.18 -> libroken.so.18.1.0\n\tlibyaml-0.so.2 -> libyaml-0.so.2.0.6\n\tlibkmod.so.2 -> libkmod.so.2.3.5\n\tlibldap_r-2.4.so.2 -> libldap_r-2.4.so.2.10.12\n\tlibitm.so.1 -> libitm.so.1.0.0\n\tlibX11.so.6 -> libX11.so.6.3.0\n\tlibpopt.so.0 -> libpopt.so.0.0.0\n\tlibhcrypto.so.4 -> libhcrypto.so.4.1.0\n\tliblsan.so.0 -> liblsan.so.0.0.0\n\tlibavahi-common.so.3 -> libavahi-common.so.3.5.3\n\tlibctf.so.0 -> libctf.so.0.0.0\n\tlibhx509.so.5 -> libhx509.so.5.0.0\n\tlibsasl2.so.2 -> libsasl2.so.2.0.25\n\tlibogg.so.0 -> libogg.so.0.8.4\n\tlibXft.so.2 -> libXft.so.2.3.3\n\tlibpackagekit-glib2.so.18 -> libpackagekit-glib2.so.18.1.3\n\tlibm17n.so.0 -> libm17n.so.0.4.2\n\tlibatk-1.0.so.0 -> libatk-1.0.so.0.23510.1\n\tlibpng16.so.16 -> libpng16.so.16.37.0\n\tlibgpm.so.2 -> libgpm.so.2\n\tlibgdk_pixbuf_xlib-2.0.so.0 -> libgdk_pixbuf_xlib-2.0.so.0.4000.0\n\tlibkpathsea.so.6 -> libkpathsea.so.6.3.1\n\tlibXi.so.6 -> libXi.so.6.1.0\n\tlibbrotlienc.so.1 -> libbrotlienc.so.1.0.7\n\tliblmdb.so.0 -> liblmdb.so.0.0.0\n\tlibpython3.8.so.1.0 -> libpython3.8.so.1.0\n\tlibXcursor.so.1 -> libXcursor.so.1.0.2\n\tlibXfixes.so.3 -> libXfixes.so.3.1.0\n\tlibsqlite3.so.0 -> libsqlite3.so.0.8.6\n\tlibcurl-gnutls.so.4 -> libcurl-gnutls.so.4.6.0\n\tlibhistory.so.8 -> libhistory.so.8.0\n\tlibasan.so.5 -> libasan.so.5.0.0\n\tlibmpc.so.3 -> libmpc.so.3.1.0\n\tlibpangoft2-1.0.so.0 -> libpangoft2-1.0.so.0.4400.7\n\tlibgssapi_krb5.so.2 -> libgssapi_krb5.so.2.2\n\tlibgstcontroller-1.0.so.0 -> libgstcontroller-1.0.so.0.1603.0\n\tlibXrandr.so.2 -> libXrandr.so.2.2.0\n\tlibvorbisfile.so.3 -> libvorbisfile.so.3.3.7\n\tlibgobject-2.0.so.0 -> libgobject-2.0.so.0.6400.6\n\tlibssl.so.1.1 -> libssl.so.1.1\n\tlibXaw.so.7 -> libXaw7.so.7.0.0\n\tlibthai.so.0 -> libthai.so.0.3.1\n\tlibTECkit_Compiler.so.0 -> libTECkit_Compiler.so.0.0.0\n\tlibTECkit.so.0 -> libTECkit.so.0.0.0\n\tliblcms2.so.2 -> liblcms2.so.2.0.8\n\tlibquadmath.so.0 -> libquadmath.so.0.0.0\n\tlibjson-glib-1.0.so.0 -> libjson-glib-1.0.so.0.400.4\n\tlibssh.so.4 -> libssh.so.4.8.4\n\tlibtdb.so.1 -> libtdb.so.1.4.5\n\tlibicudata.so.66 -> libicudata.so.66.1\n\tlibhdf5_serialhl_fortran.so.100 -> libhdf5_serialhl_fortran.so.100.0.3\n\tlibhdf5_serial_fortran.so.100 -> libhdf5_serial_fortran.so.100.1.2\n\tlibotf.so.0 -> libotf.so.0.0.0\n\tlibnl-route-3.so.200 -> libnl-route-3.so.200.26.0\n\tlibevent-2.1.so.7 -> libevent-2.1.so.7.0.0\n\tlibprotoc.so.17 -> libprotoc.so.17.0.0\n\tlibuchardet.so.0 -> libuchardet.so.0.0.6\n\tlibxml2.so.2 -> libxml2.so.2.9.10\n\tlibubsan.so.1 -> libubsan.so.1.0.0\n\tlibreadline.so.8 -> libreadline.so.8.0\n\tlibgdbm_compat.so.4 -> libgdbm_compat.so.4.0.0\n\tlibexpatw.so.1 -> libexpatw.so.1.6.11\n\tlibXmu.so.6 -> libXmu.so.6.2.0\n\tlibcurl.so.4 -> libcurl.so.4.6.0\n\tlibzzipfseeko-0.so.13 -> libzzipfseeko-0.so.13.0.62\n\tlibdatrie.so.1 -> libdatrie.so.1.3.5\n\tlibzzipmmapped-0.so.13 -> libzzipmmapped-0.so.13.0.62\n\tlibXdamage.so.1 -> libXdamage.so.1.1.0\n\tlibatomic.so.1 -> libatomic.so.1.2.0\n\tlibappstream.so.4 -> libappstream.so.0.12.10\n\tlibproxy.so.1 -> libproxy.so.1.0.0\n\tlibisl.so.22 -> libisl.so.22.0.1\n\tlibgraphite2.so.3 -> libgraphite2.so.3.2.1\n\tlibpolkit-agent-1.so.0 -> libpolkit-agent-1.so.0.0.0\n\tlibjq.so.1 -> libjq.so.1.0.4\n\tlibk5crypto.so.3 -> libk5crypto.so.3.1\n\tlibsz.so.2 -> libsz.so.2.0.1\n\tlibtexluajit.so.2 -> libtexluajit.so.2.1.0\n\tlibglib-2.0.so.0 -> libglib-2.0.so.0.6400.6\n\tlibkeyutils.so.1 -> libkeyutils.so.1.8\n\tlibMagickWand-6.Q16.so.6 -> libMagickWand-6.Q16.so.6.0.0\n\tlibpaper.so.1 -> libpaper.so.1.1.2\n\tlibharfbuzz.so.0 -> libharfbuzz.so.0.20600.4\n\tlibkrb5.so.3 -> libkrb5.so.3.3\n\tlibnl-3.so.200 -> libnl-3.so.200.26.0\n\tlibperl.so.5.30 -> libperl.so.5.30.0\n\tlibgtk-3.so.0 -> libgtk-3.so.0.2404.16\n\tlibgstnet-1.0.so.0 -> libgstnet-1.0.so.0.1603.0\n\tlibXss.so.1 -> libXss.so.1.0.0\n\tlibzzip-0.so.13 -> libzzip-0.so.13.0.62\n\tlibkrb5.so.26 -> libkrb5.so.26.0.0\n\tlibexpat.so.1 -> libexpat.so.1.6.11\n\tlibm17n-flt.so.0 -> libm17n-flt.so.0.4.2\n\tlibXrender.so.1 -> libXrender.so.1.3.0\n\tlibxcb-shm.so.0 -> libxcb-shm.so.0.0.0\n\tliblber-2.4.so.2 -> liblber-2.4.so.2.10.12\n\tlibgdbm.so.6 -> libgdbm.so.6.0.0\n\tlibkrb5support.so.0 -> libkrb5support.so.0.1\n\tlibharfbuzz-icu.so.0 -> libharfbuzz-icu.so.0.20600.4\n\tlibksba.so.8 -> libksba.so.8.11.6\n\tlibfuse.so.2 -> libfuse.so.2.9.9\n\tlibulockmgr.so.1 -> libulockmgr.so.1.0.1\n\tlibnuma.so.1 -> libnuma.so.1.0.0\n\tlibedit.so.2 -> libedit.so.2.0.63\n\tlibboost_filesystem.so.1.71.0 -> libboost_filesystem.so.1.71.0\n\tlibrhash.so.0 -> librhash.so.0\n\tlibfido2.so.1 -> libfido2.so.1.3.1\n\tlibarchive.so.13 -> libarchive.so.13.4.0\n\tlibcbor.so.0.6 -> libcbor.so.0.6.0\n\tlibuv.so.1 -> libuv.so.1.0.0\n\tlibboost_system.so.1.71.0 -> libboost_system.so.1.71.0\n\tlibXmuu.so.1 -> libXmuu.so.1.0.0\n\tlibjsoncpp.so.1 -> libjsoncpp.so.1.7.4\n\tlibnspr4.so -> libnspr4.so\n\tlibdrm.so.2 -> libdrm.so.2.4.0\n\tlibpciaccess.so.0 -> libpciaccess.so.0.11.1\n\tlibsmime3.so -> libsmime3.so\n\tlibVkLayer_MESA_device_select.so -> libVkLayer_MESA_device_select.so\n\tlibvulkan_intel.so -> libvulkan_intel.so\n\tlibvulkan_radeon.so -> libvulkan_radeon.so\n\tlibGL.so.1 -> libGL.so.1.7.0\n\tlibdrm_amdgpu.so.1 -> libdrm_amdgpu.so.1.0.0\n\tlibXv.so.1 -> libXv.so.1.0.0\n\tlibXtst.so.6 -> libXtst.so.6.1.0\n\tlibplc4.so -> libplc4.so\n\tlibGLdispatch.so.0 -> libGLdispatch.so.0.0.0\n\tlibxshmfence.so.1 -> libxshmfence.so.1.0.0\n\tlibssl3.so -> libssl3.so\n\tlibplds4.so -> libplds4.so\n\tlibdrm_radeon.so.1 -> libdrm_radeon.so.1.0.1\n\tlibdrm_intel.so.1 -> libdrm_intel.so.1.0.0\n\tlibsensors.so.5 -> libsensors.so.5.0.0\n\tlibXxf86dga.so.1 -> libXxf86dga.so.1.0.0\n\tlibxkbfile.so.1 -> libxkbfile.so.1.0.2\n\tlibGLX.so.0 -> libGLX.so.0.0.0\n\tlibglapi.so.0 -> libglapi.so.0.0.0\n\tlibxcb-present.so.0 -> libxcb-present.so.0.0.0\n\tlibxcb-dri2.so.0 -> libxcb-dri2.so.0.0.0\n\tlibnss3.so -> libnss3.so\n\tlibfontenc.so.1 -> libfontenc.so.1.0.0\n\tlibGLX_mesa.so.0 -> libGLX_mesa.so.0.0.0\n\tlibVkLayer_MESA_overlay.so -> libVkLayer_MESA_overlay.so\n\tlibvulkan.so.1 -> libvulkan.so.1.2.131\n\tlibxcb-dri3.so.0 -> libxcb-dri3.so.0.0.0\n\tlibvulkan_lvp.so -> libvulkan_lvp.so\n\tlibpcsclite.so.1 -> libpcsclite.so.1.0.0\n\tlibLLVM-12.so.1 -> libLLVM-12.so.1\n\tlibnssutil3.so -> libnssutil3.so\n\tlibxcb-glx.so.0 -> libxcb-glx.so.0.0.0\n\tlibxcb-xfixes.so.0 -> libxcb-xfixes.so.0.0.0\n\tlibxcb-randr.so.0 -> libxcb-randr.so.0.1.0\n\tlibdrm_nouveau.so.2 -> libdrm_nouveau.so.2.0.0\n\tlibXxf86vm.so.1 -> libXxf86vm.so.1.0.0\n\tlibxcb-shape.so.0 -> libxcb-shape.so.0.0.0\n\tlibX11-xcb.so.1 -> libX11-xcb.so.1.0.0\n\tlibxcb-sync.so.1 -> libxcb-sync.so.1.0.0\n\tlibgvc.so.6 -> libgvc.so.6.0.0\n\tlibpathplan.so.4 -> libpathplan.so.4.0.0\n\tlibann.so.0 -> libann.so.0.0.0\n\tlibgts-0.7.so.5 -> libgts-0.7.so.5.0.1\n\tlibcdt.so.5 -> libcdt.so.5.0.0\n\tlibgvpr.so.2 -> libgvpr.so.2.0.0\n\tliblab_gamut.so.1 -> liblab_gamut.so.1.0.0\n\tlibcgraph.so.6 -> libcgraph.so.6.0.0\n\tlibunwind-ptrace.so.0 -> libunwind-ptrace.so.0.0.0\n\tlibXfont2.so.2 -> libXfont2.so.2.0.0\n\tlibunwind-coredump.so.0 -> libunwind-coredump.so.0.0.0\n\tlibunwind-x86_64.so.8 -> libunwind-x86_64.so.8.0.1\n\tlibunwind.so.8 -> libunwind.so.8.0.1\n\tlibhunspell-1.7.so.0 -> libhunspell.so\n\tlibopenslide.so.0 -> libopenslide.so.0.4.1\n\tlibopenjp2.so.7 -> libopenjp2.so.2.3.1\n\tlibpulse-simple.so.0 -> libpulse-simple.so.0.1.1\n\tlibavdevice.so.58 -> libavdevice.so.58.8.100\n\tlibcdio_cdda.so.2 -> libcdio_cdda.so.2.0.0\n\tlibcdio.so.18 -> libcdio.so.18.0.0\n\tlibraw1394.so.11 -> libraw1394.so.11.1.0\n\tlibbs2b.so.0 -> libbs2b.so.0.0.0\n\tlibass.so.9 -> libass.so.9.0.2\n\tlibjackserver.so.0 -> libjackserver.so.0.1.0\n\tlibflite_cmu_us_rms.so.1 -> libflite_cmu_us_rms.so.2.1\n\tlibflite_cmu_time_awb.so.1 -> libflite_cmu_time_awb.so.2.1\n\tlibslang.so.2 -> libslang.so.2.3.2\n\tlibflite_cmu_us_awb.so.1 -> libflite_cmu_us_awb.so.2.1\n\tlibssh-gcrypt.so.4 -> libssh-gcrypt.so.4.8.4\n\tlibnorm.so.1 -> libnorm.so.1.5.8\n\tlibmp3lame.so.0 -> libmp3lame.so.0.0.0\n\tlibiec61883.so.0 -> libiec61883.so.0.1.1\n\tlibgme.so.0 -> libgme.so.0.6.2\n\tlibsord-0.so.0 -> libsord-0.so.0.16.4\n\tlibflite.so.1 -> libflite.so.2.1\n\tlibavformat.so.58 -> libavformat.so.58.29.100\n\tlibcodec2.so.0.9 -> libcodec2.so.0.9\n\tlibvidstab.so.1.1 -> libvidstab.so.1.1\n\tlibzvbi.so.0 -> libzvbi.so.0.13.2\n\tlibflite_cmu_us_kal16.so.1 -> libflite_cmu_us_kal16.so.2.1\n\tlibdc1394.so.22 -> libdc1394.so.22.2.1\n\tlibpulse.so.0 -> libpulse.so.0.21.2\n\tlibavresample.so.4 -> libavresample.so.4.0.0\n\tlibcdio_paranoia.so.2 -> libcdio_paranoia.so.2.0.0\n\tlibtheoraenc.so.1 -> libtheoraenc.so.1.1.2\n\tlibbdplus.so.0 -> libbdplus.so.0.1.0\n\tlibmysofa.so.1 -> libmysofa.so.1.0.0\n\tlibwavpack.so.1 -> libwavpack.so.1.2.1\n\tlibasyncns.so.0 -> libasyncns.so.0.3.1\n\tlibigdgmm.so.11 -> libigdgmm.so.11.1.0\n\tlibva-x11.so.2 -> libva-x11.so.2.700.0\n\tlibtheora.so.0 -> libtheora.so.0.3.10\n\tlibzvbi-chains.so.0 -> libzvbi-chains.so.0.0.0\n\tlibsndio.so.7.0 -> libsndio.so.7.0\n\tlibx264.so.155 -> libx264.so.155\n\tlibflite_cmu_us_kal.so.1 -> libflite_cmu_us_kal.so.2.1\n\tliblilv-0.so.0 -> liblilv-0.so.0.24.6\n\tlibserd-0.so.0 -> libserd-0.so.0.30.2\n\tlibtwolame.so.0 -> libtwolame.so.0.0.0\n\tlibopenal.so.1 -> libopenal.so.1.19.1\n\tlibva-drm.so.2 -> libva-drm.so.2.700.0\n\tlibopus.so.0 -> libopus.so.0.8.0\n\tlibcaca++.so.0 -> libcaca++.so.0.99.19\n\tlibgsm.so.1 -> libgsm.so.1.0.18\n\tlibva.so.2 -> libva.so.2.700.0\n\tlibsoxr.so.0 -> libsoxr.so.0.1.2\n\tlibbluray.so.2 -> libbluray.so.2.2.0\n\tlibjack.so.0 -> libjack.so.0.1.0\n\tlibmpg123.so.0 -> libmpg123.so.0.44.10\n\tlibavutil.so.56 -> libavutil.so.56.31.100\n\tlibchromaprint.so.1 -> libchromaprint.so.1.4.3\n\tlibflite_cmu_grapheme_lex.so.1 -> libflite_cmu_grapheme_lex.so.2.1\n\tlibavc1394.so.0 -> libavc1394.so.0.3.0\n\tlibwrap.so.0 -> libwrap.so.0.7.6\n\tlibflite_usenglish.so.1 -> libflite_usenglish.so.2.1\n\tlibpgm-5.2.so.0 -> libpgm-5.2.so.0.0.122\n\tlibaom.so.0 -> libaom.so.0\n\tlibaacs.so.0 -> libaacs.so.0.6.0\n\tlibvpx.so.6 -> libvpx.so.6.2.0\n\tlibtheoradec.so.1 -> libtheoradec.so.1.1.4\n\tlibzmq.so.5 -> libzmq.so.5.2.2\n\tlibswresample.so.3 -> libswresample.so.3.5.100\n\tlibflite_cmu_indic_lex.so.1 -> libflite_cmu_indic_lex.so.2.1\n\tlibspeex.so.1 -> libspeex.so.1.5.0\n\tlibsamplerate.so.0 -> libsamplerate.so.0.1.8\n\tlibavfilter.so.7 -> libavfilter.so.7.57.100\n\tlibcaca.so.0 -> libcaca.so.0.99.19\n\tlibSDL2-2.0.so.0 -> libSDL2-2.0.so.0.10.0\n\tlibopenmpt.so.0 -> libopenmpt.so.0.1.1\n\tlibusb-1.0.so.0 -> libusb-1.0.so.0.2.0\n\tlibsratom-0.so.0 -> libsratom-0.so.0.6.4\n\tlibflite_cmulex.so.1 -> libflite_cmulex.so.2.1\n\tlibsodium.so.23 -> libsodium.so.23.3.0\n\tlibvdpau.so.1 -> libvdpau.so.1.0.0\n\tlibxvidcore.so.4 -> libxvidcore.so.4.3\n\tlibx265.so.179 -> libx265.so.179\n\tlibsndfile.so.1 -> libsndfile.so.1.0.28\n\tlibflite_cmu_grapheme_lang.so.1 -> libflite_cmu_grapheme_lang.so.2.1\n\tlibavcodec.so.58 -> libavcodec.so.58.54.100\n\tlibFLAC.so.8 -> libFLAC.so.8.3.0\n\tlibpostproc.so.55 -> libpostproc.so.55.5.100\n\tlibOpenCL.so.1 -> libOpenCL.so.1.0.0\n\tlibrom1394.so.0 -> librom1394.so.0.3.0\n\tlibrubberband.so.2 -> librubberband.so.2.1.1\n\tlibswscale.so.5 -> libswscale.so.5.5.100\n\tlibvorbisenc.so.2 -> libvorbisenc.so.2.0.11\n\tlibflite_cmu_indic_lang.so.1 -> libflite_cmu_indic_lang.so.2.1\n\tlibshine.so.3 -> libshine.so.3.0.1\n\tlibjacknet.so.0 -> libjacknet.so.0.1.0\n\tlibflite_cmu_us_slt.so.1 -> libflite_cmu_us_slt.so.2.1\n\tlibspatialindex.so.6 -> libspatialindex.so.6.1.1\n\tlibspatialindex_c.so.6 -> libspatialindex_c.so.6.1.1\n\tliblept.so.5 -> liblept.so.5.0.4\n\tlibtesseract.so.4 -> libtesseract.so.4.0.1\n\tlibapt-private.so.0.0 -> libapt-private.so.0.0.0\n\tlibtic.so.6 -> libtic.so.6.2\n\tlibpcprofile.so -> libpcprofile.so\n\tlibacl.so.1 -> libacl.so.1.1.2253\n\tlibp11-kit.so.0 -> libp11-kit.so.0.3.0\n\tlibprocps.so.8 -> libprocps.so.8.0.2\n\tlibudev.so.1 -> libudev.so.1.6.17\n\tlibgpg-error.so.0 -> libgpg-error.so.0.28.0\n\tlibapt-pkg.so.6.0 -> libapt-pkg.so.6.0.0\n\tlibpamc.so.0 -> libpamc.so.0.82.1\n\tlibmemusage.so -> libmemusage.so\n\tlibpcre.so.3 -> libpcre.so.3.13.3\n\tlibnss_nis.so.2 -> libnss_nis-2.31.so\n\tlibmenu.so.6 -> libmenu.so.6.2\n\tlibmount.so.1 -> libmount.so.1.1.0\n\tlibattr.so.1 -> libattr.so.1.1.2448\n\tlibsepol.so.1 -> libsepol.so.1\n\tlibuuid.so.1 -> libuuid.so.1.3.0\n\tlibdb-5.3.so -> libdb-5.3.so\n\tlibformw.so.6 -> libformw.so.6.2\n\tlibunistring.so.2 -> libunistring.so.2.1.0\n\tlibnss_files.so.2 -> libnss_files-2.31.so\n\tlibgcc_s.so.1 -> libgcc_s.so.1\n\tlibss.so.2 -> libss.so.2.0\n\tlibgmp.so.10 -> libgmp.so.10.4.0\n\tlibffi.so.7 -> libffi.so.7.1.0\n\tlibselinux.so.1 -> libselinux.so.1\n\tlibnsl.so.1 -> libnsl-2.31.so\n\tlibdl.so.2 -> libdl-2.31.so\n\tlibstdc++.so.6 -> libstdc++.so.6.0.28\n\tlibext2fs.so.2 -> libext2fs.so.2.4\n\tliblzma.so.5 -> liblzma.so.5.2.4\n\tlibseccomp.so.2 -> libseccomp.so.2.5.1\n\tlibpcreposix.so.3 -> libpcreposix.so.3.13.3\n\tlibutil.so.1 -> libutil-2.31.so\n\tlibcom_err.so.2 -> libcom_err.so.2.1\n\tlibz.so.1 -> libz.so.1.2.11\n\tlibpthread.so.0 -> libpthread-2.31.so\n\tlibmvec.so.1 -> libmvec-2.31.so\n\tlibhogweed.so.5 -> libhogweed.so.5.0\n\tlibnss_nisplus.so.2 -> libnss_nisplus-2.31.so\n\tlibpanel.so.6 -> libpanel.so.6.2\n\tlibSegFault.so -> libSegFault.so\n\tlibcap-ng.so.0 -> libcap-ng.so.0.0.0\n\tlibnss_compat.so.2 -> libnss_compat-2.31.so\n\tlibpcre2-8.so.0 -> libpcre2-8.so.0.9.0\n\tlibform.so.6 -> libform.so.6.2\n\tlibpam_misc.so.0 -> libpam_misc.so.0.82.1\n\tlibmenuw.so.6 -> libmenuw.so.6.2\n\tlibcrypt.so.1 -> libcrypt.so.1.1.0\n\tlibanl.so.1 -> libanl-2.31.so\n\tlibBrokenLocale.so.1 -> libBrokenLocale-2.31.so\n/sbin/ldconfig.real: /lib/x86_64-linux-gnu/ld-2.31.so is the dynamic linker, ignoring\n\n\tld-linux-x86-64.so.2 -> ld-2.31.so\n\tlibnettle.so.7 -> libnettle.so.7.0\n\tlibpam.so.0 -> libpam.so.0.84.2\n\tlibncursesw.so.6 -> libncursesw.so.6.2\n\tlibaudit.so.1 -> libaudit.so.1.0.0\n\tlibtasn1.so.6 -> libtasn1.so.6.6.0\n\tlibthread_db.so.1 -> libthread_db-1.0.so\n\tlibsmartcols.so.1 -> libsmartcols.so.1.1.0\n\tlibe2p.so.2 -> libe2p.so.2.3\n\tlibzstd.so.1 -> libzstd.so.1.4.4\n\tlibbz2.so.1.0 -> libbz2.so.1.0.4\n\tlibnss_dns.so.2 -> libnss_dns-2.31.so\n\tlibm.so.6 -> libm-2.31.so\n\tlibncurses.so.6 -> libncurses.so.6.2\n\tlibidn2.so.0 -> libidn2.so.0.3.6\n\tlibfdisk.so.1 -> libfdisk.so.1.1.0\n\tlibdebconfclient.so.0 -> libdebconfclient.so.0.0.0\n\tliblz4.so.1 -> liblz4.so.1.9.2\n\tlibrt.so.1 -> librt-2.31.so\n\tlibsystemd.so.0 -> libsystemd.so.0.28.0\n\tlibtinfo.so.6 -> libtinfo.so.6.2\n\tlibnss_hesiod.so.2 -> libnss_hesiod-2.31.so\n\tlibc.so.6 -> libc-2.31.so\n\tlibgcrypt.so.20 -> libgcrypt.so.20.2.5\n\tlibpanelw.so.6 -> libpanelw.so.6.2\n\tlibgnutls.so.30 -> libgnutls.so.30.27.0\n\tlibresolv.so.2 -> libresolv-2.31.so\n\tlibblkid.so.1 -> libblkid.so.1.1.0\n\tlibsemanage.so.1 -> libsemanage.so.1\n/lib:\n\tlibBLTlite.2.5.so.8.6 -> libBLTlite.2.5.so.8.6\n\tlibBLT.2.5.so.8.6 -> libBLT.2.5.so.8.6\n\tlibopen-rte.so.40 -> libopen-rte.so.40.20.2\n\tlibompitrace.so.40 -> libompitrace.so.40.20.0\n\tlibmpi.so.40 -> libmpi.so.40.20.2\n\tlibopen-pal.so.40 -> libopen-pal.so.40.20.2\nChannels:\n - rapidsai\n - nvidia\n - conda-forge\n - defaults\nPlatform: linux-64\nCollecting package metadata (repodata.json): done\nSolving environment: done\n\n\n==> WARNING: A newer version of conda exists. <==\n    current version: 23.11.0\n    latest version: 24.3.0\n\nPlease update conda by running\n\n    $ conda update -n base -c conda-forge conda\n\n\n\n# All requested packages already installed.\n\nChannels:\n - conda-forge\n - rapidsai\n - nvidia\n - defaults\nPlatform: linux-64\nCollecting package metadata (repodata.json): done\nSolving environment: done\n\n\n==> WARNING: A newer version of conda exists. <==\n    current version: 23.11.0\n    latest version: 24.3.0\n\nPlease update conda by running\n\n    $ conda update -n base -c conda-forge conda\n\n\n\n# All requested packages already installed.\n\nfatal: destination path 'gemma.cpp' already exists and is not an empty directory.\n\u001b[0mCMake Deprecation Warning at build/_deps/highway-src/CMakeLists.txt:25 (cmake_policy):\n  The OLD behavior for policy CMP0111 will be removed from a future version\n  of CMake.\n\n  The cmake-policies(7) manual explains that the OLD behaviors of all\n  policies are deprecated and that a policy should be set to OLD only under\n  specific short-term circumstances.  Projects should be ported to the NEW\n  behavior and not rely on setting a policy to OLD.\n\n\u001b[0m\n\u001b[0mCMake Deprecation Warning at CMakeLists.txt:1 (cmake_minimum_required):\n  Compatibility with CMake < 3.5 will be removed from a future version of\n  CMake.\n\n  Update the VERSION argument <min> value or use a ...<max> suffix to tell\n  CMake that the project does not need compatibility with older versions.\n\n\u001b[0m\n-- Configuring done (0.1s)\n-- Generating done (0.0s)\n-- Build files have been written to: /kaggle/working/gemma.cpp/build/_deps/highway-build/googletest-download\n[ 11%] \u001b[34m\u001b[1mPerforming update step for 'googletest'\u001b[0m\n[ 22%] \u001b[34m\u001b[1mNo patch step for 'googletest'\u001b[0m\n[ 33%] \u001b[34m\u001b[1mNo configure step for 'googletest'\u001b[0m\n[ 44%] \u001b[34m\u001b[1mNo build step for 'googletest'\u001b[0m\n[ 55%] \u001b[34m\u001b[1mNo install step for 'googletest'\u001b[0m\n[ 66%] \u001b[34m\u001b[1mNo test step for 'googletest'\u001b[0m\n[ 77%] \u001b[34m\u001b[1mCompleted 'googletest'\u001b[0m\n[100%] Built target googletest\n\u001b[0mCMake Deprecation Warning at build/_deps/sentencepiece-src/CMakeLists.txt:15 (cmake_minimum_required):\n  Compatibility with CMake < 3.5 will be removed from a future version of\n  CMake.\n\n  Update the VERSION argument <min> value or use a ...<max> suffix to tell\n  CMake that the project does not need compatibility with older versions.\n\n\u001b[0m\n-- VERSION: 0.2.0\n-- Not Found TCMalloc: TCMALLOC_LIB-NOTFOUND\n-- Configuring done (2.2s)\n-- Generating done (0.3s)\n-- Build files have been written to: /kaggle/working/gemma.cpp/build\n[  7%] Built target hwy\n[ 42%] Built target hwy_contrib\n[ 96%] Built target sentencepiece\n[100%] Built target gemma\n",
          "output_type": "stream"
        }
      ]
    },
    {
      "cell_type": "code",
      "source": [
        "!rm -rf \"gemma.cpp\"\n",
        "!rm -f \"gemma_cpp.sh\""
      ],
      "metadata": {
        "execution": {
          "iopub.status.busy": "2024-03-25T17:49:44.983422Z",
          "iopub.execute_input": "2024-03-25T17:49:44.983863Z",
          "iopub.status.idle": "2024-03-25T17:49:47.524471Z",
          "shell.execute_reply.started": "2024-03-25T17:49:44.983825Z",
          "shell.execute_reply": "2024-03-25T17:49:47.52293Z"
        },
        "trusted": true,
        "id": "5oJZSZYx3zKE"
      },
      "execution_count": null,
      "outputs": []
    },
    {
      "cell_type": "code",
      "source": [
        "!echo \"Can you explain linear regression?\" | ./gemma_cpp/gemma -- --tokenizer /kaggle/input/gemma/gemmacpp/2b-it-sfp/1/tokenizer.spm --compressed_weights /kaggle/input/gemma/gemmacpp/2b-it-sfp/1/2b-it-sfp.sbs --model 2b-it --verbosity 0"
      ],
      "metadata": {
        "execution": {
          "iopub.status.busy": "2024-03-25T17:49:47.527143Z",
          "iopub.execute_input": "2024-03-25T17:49:47.527777Z",
          "iopub.status.idle": "2024-03-25T17:53:08.72925Z",
          "shell.execute_reply.started": "2024-03-25T17:49:47.527698Z",
          "shell.execute_reply": "2024-03-25T17:53:08.72635Z"
        },
        "trusted": true,
        "id": "KFFFIW703zKF",
        "outputId": "e5d0e326-3344-4a2d-8ac6-c8b7d6fb7fec"
      },
      "execution_count": null,
      "outputs": [
        {
          "name": "stdout",
          "text": "\n[ Reading prompt ] ..............\nSure, here's a breakdown of linear regression:\n\n**What is it?**\n\nLinear regression is a statistical method used to find a straight line that best fits a set of data points. It's a powerful tool for understanding relationships between variables and making predictions based on new data points.\n\n**How does it work?**\n\n1. **Data preparation:** You start by collecting data points, which can be represented in a table or a graph.\n2. **Forming the model:** You then create a mathematical equation that expresses the relationship between the dependent and independent variables.\n3. **Fitting the model:** Using a statistical software package, you find the values of the coefficients that minimize the difference between the actual data points and the predicted values based on the model.\n4. **Interpretation:** The coefficients tell you how much each independent variable affects the dependent variable.\n5. **Prediction:** Once you have the model, you can use it to predict the dependent variable for new data points by plugging in the values of the independent variables.\n\n**Types of linear regression:**\n\n* **Simple linear regression:** This is when there is only one independent variable and one dependent variable.\n* **Multiple linear regression:** This is when there are multiple independent variables and one dependent variable.\n* **Logistic regression:** This is used when the dependent variable is categorical.\n\n**Benefits of using linear regression:**\n\n* Provides a simple and powerful way to model relationships between variables.\n* Can be used to make accurate predictions for new data points.\n* Helps identify the most important independent variables influencing the dependent variable.\n\n**Limitations of linear regression:**\n\n* Assumes a linear relationship between the independent and dependent variables.\n* May not be suitable for complex relationships between variables.\n* Can be sensitive to outliers in the data.\n\n**Applications of linear regression:**\n\n* Predicting sales based on marketing efforts.\n* Identifying factors that contribute to a particular outcome.\n* Analyzing customer behavior in a business.\n* Forecasting future values based on historical data.\n\nI hope this explanation helps! Let me know if you have any further questions.\n\n",
          "output_type": "stream"
        }
      ]
    },
    {
      "cell_type": "code",
      "source": [
        "import subprocess\n",
        "import sys\n",
        "\n",
        "class GemmaCPP():\n",
        "    \"\"\"Wrapper for the C++ implementation of Gemma\"\"\"\n",
        "\n",
        "    def __init__(self, gemma_cpp, tokenizer, compressed_weights, model):\n",
        "        self.gemma_cpp = gemma_cpp\n",
        "        self.tokenizer = tokenizer\n",
        "        self.compressed_weights = compressed_weights\n",
        "        self.model = model\n",
        "\n",
        "    def generate_text(self, prompt):\n",
        "        \"\"\"Generate text using the cpp tokenizer and model\"\"\"\n",
        "        # Define the shell command\n",
        "        prompt = prompt.replace('\"', '\\\"')\n",
        "        shell_command = f'echo \"{prompt}\" | {gemma_cpp} -- --tokenizer {tokenizer} --compressed_weights {compressed_weights} --model {model} --verbosity 0'\n",
        "\n",
        "        # Execute the shell command and redirect stdout to the Python script's stdout\n",
        "        process = subprocess.Popen(shell_command, shell=True, stdout=subprocess.PIPE, stderr=subprocess.STDOUT)\n",
        "\n",
        "        # Print the output letter by letter\n",
        "        for char in iter(lambda: process.stdout.read(1), b''):\n",
        "            sys.stdout.write(char.decode(sys.stdout.encoding))\n",
        "            sys.stdout.flush()\n",
        "\n",
        "        # Wait for the process to finish\n",
        "        process.wait()"
      ],
      "metadata": {
        "execution": {
          "iopub.status.busy": "2024-03-25T17:56:30.776644Z",
          "iopub.execute_input": "2024-03-25T17:56:30.777508Z",
          "iopub.status.idle": "2024-03-25T17:56:30.79296Z",
          "shell.execute_reply.started": "2024-03-25T17:56:30.777448Z",
          "shell.execute_reply": "2024-03-25T17:56:30.790987Z"
        },
        "trusted": true,
        "id": "WJLoEfAe3zKF"
      },
      "execution_count": null,
      "outputs": []
    },
    {
      "cell_type": "code",
      "source": [
        "gemma_cpp = \"./gemma_cpp/gemma\"\n",
        "tokenizer = \"/kaggle/input/gemma/gemmacpp/2b-it-sfp/1/tokenizer.spm\"\n",
        "compressed_weights = \"/kaggle/input/gemma/gemmacpp/2b-it-sfp/1/2b-it-sfp.sbs\"\n",
        "model = \"2b-it\"\n",
        "\n",
        "gemma =  GemmaCPP(gemma_cpp, tokenizer, compressed_weights, model)"
      ],
      "metadata": {
        "execution": {
          "iopub.status.busy": "2024-03-25T17:56:34.596559Z",
          "iopub.execute_input": "2024-03-25T17:56:34.59813Z",
          "iopub.status.idle": "2024-03-25T17:56:34.60515Z",
          "shell.execute_reply.started": "2024-03-25T17:56:34.598075Z",
          "shell.execute_reply": "2024-03-25T17:56:34.603508Z"
        },
        "trusted": true,
        "id": "w9WkoBj33zKF"
      },
      "execution_count": null,
      "outputs": []
    },
    {
      "cell_type": "code",
      "source": [
        "%%time\n",
        "gemma.generate_text(\"Explain why the sky is blue\")"
      ],
      "metadata": {
        "execution": {
          "iopub.status.busy": "2024-03-25T17:56:44.241104Z",
          "iopub.execute_input": "2024-03-25T17:56:44.241572Z",
          "iopub.status.idle": "2024-03-25T17:57:42.093065Z",
          "shell.execute_reply.started": "2024-03-25T17:56:44.241535Z",
          "shell.execute_reply": "2024-03-25T17:57:42.092129Z"
        },
        "trusted": true,
        "id": "H1VO9L653zKG",
        "outputId": "48ec4a12-21cd-4f52-b131-776efa977b85"
      },
      "execution_count": null,
      "outputs": [
        {
          "name": "stdout",
          "text": "\n[ Reading prompt ] ..............\nThe sky appears blue due to Rayleigh scattering. Rayleigh scattering is the scattering of light by particles of a smaller wavelength, such as blue and violet light. This is because blue and violet light have shorter wavelengths than other colors of light.\n\nWhen sunlight enters the atmosphere, it is scattered in all directions. However, blue and violet light have shorter wavelengths and are scattered more strongly than longer wavelengths. This is because blue and violet light have more energy and are more likely to be scattered.\n\nAs a result, the sky appears blue to us. The blue color of the sky is also responsible for the beautiful colors of the rainbow.\n\nCPU times: user 780 ms, sys: 138 ms, total: 919 ms\nWall time: 57.8 s\n",
          "output_type": "stream"
        }
      ]
    },
    {
      "cell_type": "code",
      "source": [
        "%%time\n",
        "gemma.generate_text(\"I am working with the Titanic dataset, \\\n",
        "containing the features: PassengerId, Survived, Pclass, Name, Sex, Age, SibSp, Parch, Ticket, Fare, Cabin, Embarked \\\n",
        "suggest some feature engineering\")"
      ],
      "metadata": {
        "execution": {
          "iopub.status.busy": "2024-03-25T17:57:42.094694Z",
          "iopub.execute_input": "2024-03-25T17:57:42.095109Z",
          "iopub.status.idle": "2024-03-25T18:00:21.91679Z",
          "shell.execute_reply.started": "2024-03-25T17:57:42.095076Z",
          "shell.execute_reply": "2024-03-25T18:00:21.915371Z"
        },
        "trusted": true,
        "id": "QJlImKG33zKG",
        "outputId": "36d20bf3-d5a8-4fdf-8d8d-0ac3e0ef69c7"
      },
      "execution_count": null,
      "outputs": [
        {
          "name": "stdout",
          "text": "\n[ Reading prompt ] ............................................. engineeringtechniques to improve the predictive power of the model.\n\n1. **One-Hot Encoding for categorical variables**:\n   - Create new features by creating a new column for each categorical variable, with a value of 1 for the instance and 0 for the rest.\n\n2. **Feature Scaling**:\n   - Scale the numerical features (Age, SibSp, Parch, Fare) to a range between 0 and 1.\n\n3. **Feature Transformation**:\n   - Apply a logarithmic transformation to the \"Age\" feature.\n   - Apply a square root transformation to the \"Fare\" feature.\n\n4. **Creating new features**:\n   - Create new features by combining existing features, such as \"Sex_Male\" and \"Sex_Female\".\n\n5. **Using Regularization Techniques**:\n   - Apply L1 regularization to penalize large coefficients and encourage sparsity in the model.\n\n6. **Using Feature Importance**:\n   - Calculate feature importance to understand which features contribute most to the model's performance.\n\n7. **Using Cross-Validation**:\n   - Split the data into training and validation sets to evaluate the model's performance and prevent overfitting.\n\n8. **Using K-Nearest Neighbors (KNN)**:\n   - Build a KNN model and tune the number of neighbors to find the optimal balance between overfitting and underfitting.\n\n9. **Using Random Forests**:\n   - Train a random forest model and tune the number of trees, the number of features to consider, and the learning rate.\n\n10. **Using Gradient Boosting Machines (GBMs)**:\n    - Train a gradient boosting machine and tune the learning rate, the number of iterations, and the number of features to consider.\n\nCPU times: user 1.81 s, sys: 375 ms, total: 2.19 s\nWall time: 2min 39s\n",
          "output_type": "stream"
        }
      ]
    },
    {
      "cell_type": "code",
      "source": [
        "%%time\n",
        "gemma.generate_text(\"Show me how to use in Python a XGBoost classifier\")"
      ],
      "metadata": {
        "execution": {
          "iopub.status.busy": "2024-03-25T18:00:21.918615Z",
          "iopub.execute_input": "2024-03-25T18:00:21.919141Z",
          "iopub.status.idle": "2024-03-25T18:02:45.27794Z",
          "shell.execute_reply.started": "2024-03-25T18:00:21.919106Z",
          "shell.execute_reply": "2024-03-25T18:02:45.2763Z"
        },
        "trusted": true,
        "id": "hth9cWx43zKH",
        "outputId": "3eec3c9c-4541-4fcd-ae60-a8470cdb7140"
      },
      "execution_count": null,
      "outputs": [
        {
          "name": "stdout",
          "text": "\n[ Reading prompt ] ............ classifier.\n\n```python\nimport xgboost as xgb\n\n# Load the XGBoost library\nXGB = xgboost.XGBRegressor()\n\n# Define the training data\nX_train = ...\ny_train = ...\n\n# Train the XGBoost classifier\nXGB.fit(X_train, y_train)\n\n# Make predictions on new data\nX_test = ...\ny_pred = XGB.predict(X_test)\n```\n\n**Example:**\n\n```python\nimport xgboost as xgb\n\n# Load the XGBoost library\nXGB = xgboost.XGBRegressor()\n\n# Load the training data\nX_train = xgb.datasets.load_data('xgb_data.csv')\ny_train = xgb.datasets.load_data('xgb_target.csv')\n\n# Train the XGBoost classifier\nXGB.fit(X_train, y_train)\n\n# Make predictions on new data\nX_test = xgb.datasets.load_data('xgb_test.csv')\ny_pred = XGB.predict(X_test)\n\n# Print the results\nprint('Predicted labels:', y_pred)\n```\n\n**Notes:**\n\n* Replace `xgb_data.csv` and `xgb_target.csv` with the actual file names of your training and target data.\n* You can adjust the hyperparameters of the XGBoost classifier, such as the learning rate and number of iterations.\n* The `xgboost` library provides a wide range of features and methods for XGBoost classification.\n\nCPU times: user 1.32 s, sys: 260 ms, total: 1.58 s\nWall time: 2min 23s\n",
          "output_type": "stream"
        }
      ]
    },
    {
      "cell_type": "code",
      "source": [
        "%%time\n",
        "gemma.generate_text(\"What are the key differences between gradient boosting and random forests?\")"
      ],
      "metadata": {
        "trusted": true,
        "id": "FbPK2rrb3zKH"
      },
      "execution_count": null,
      "outputs": []
    }
  ]
}